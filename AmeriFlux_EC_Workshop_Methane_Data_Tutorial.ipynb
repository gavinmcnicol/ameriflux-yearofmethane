{
  "nbformat": 4,
  "nbformat_minor": 0,
  "metadata": {
    "kernelspec": {
      "display_name": "R",
      "language": "R",
      "name": "ir"
    },
    "language_info": {
      "codemirror_mode": "r",
      "file_extension": ".r",
      "mimetype": "text/x-r-source",
      "name": "R",
      "pygments_lexer": "r",
      "version": "3.3.1"
    },
    "colab": {
      "name": "AmeriFlux EC Workshop Methane Data Tutorial.ipynb",
      "version": "0.3.2",
      "provenance": [],
      "include_colab_link": true
    }
  },
  "cells": [
    {
      "cell_type": "markdown",
      "metadata": {
        "id": "view-in-github",
        "colab_type": "text"
      },
      "source": [
        "<a href=\"https://colab.research.google.com/github/gavinmcnicol/ameriflux-yearofmethane/blob/master/AmeriFlux_EC_Workshop_Methane_Data_Tutorial.ipynb\" target=\"_parent\"><img src=\"https://colab.research.google.com/assets/colab-badge.svg\" alt=\"Open In Colab\"/></a>"
      ]
    },
    {
      "cell_type": "code",
      "metadata": {
        "id": "j1Ym5hEKgaNL",
        "colab_type": "code",
        "colab": {}
      },
      "source": [
        "library(IRkernel) # to run R in Google Colab\n",
        "library(IRdisplay)"
      ],
      "execution_count": 0,
      "outputs": []
    },
    {
      "cell_type": "markdown",
      "metadata": {
        "id": "CuqprQQ8f74J",
        "colab_type": "text"
      },
      "source": [
        "# AmeriFlux Early Career Workshop\n",
        "  September 17, 2019\n",
        "\n",
        "## Methane Data Tutorial\n",
        "Hi *Methanophiliacs*\n",
        "\n",
        "The introductory tutorial will cover:\n",
        "\n",
        "* Playing with half-hourly CH4 data (no high-frequency processing)\n",
        "* Implementing two common gap-filling approaches: MDS and ANN\n",
        "\n",
        "The breakout projects can explore:\n",
        "* Interpreting gap-filling performance at your site(s) \n",
        "* Interpreting predictive variable importance at your site(s)"
      ]
    },
    {
      "cell_type": "markdown",
      "metadata": {
        "id": "eB_fn_5w6hwu",
        "colab_type": "text"
      },
      "source": [
        "### 1. Let's load packages to manipulate and vizualize some methane flux tower data."
      ]
    },
    {
      "cell_type": "code",
      "metadata": {
        "id": "2sXLf97o66rw",
        "colab_type": "code",
        "colab": {}
      },
      "source": [
        "library(tidyverse) # easy data-structure manipulation\n",
        "library(ggplot2) # nice, quick plots"
      ],
      "execution_count": 0,
      "outputs": []
    },
    {
      "cell_type": "markdown",
      "metadata": {
        "id": "PKdFItZe7E0W",
        "colab_type": "text"
      },
      "source": [
        "### Next, we can read in data for the example site CA-DBB (Canada - Delta Burns Bog, PI Prof. Sara Knox)\n",
        "You can read more about the site on the AmeriFlux [SiteInfo](https://ameriflux.lbl.gov/sites/siteinfo/CA-DBB) page.\n"
      ]
    },
    {
      "cell_type": "code",
      "metadata": {
        "id": "0EWr7D8d9k9l",
        "colab_type": "code",
        "colab": {}
      },
      "source": [
        "data_url <- \"https://raw.githubusercontent.com/gavinmcnicol/ameriflux-yearofmethane/master/exampleWETBB.csv\"\n",
        "cadbb <- read_csv(data_url)\n",
        "cadbb"
      ],
      "execution_count": 0,
      "outputs": []
    },
    {
      "cell_type": "code",
      "metadata": {
        "id": "UIYmdsc1Dwna",
        "colab_type": "code",
        "colab": {}
      },
      "source": [
        ""
      ],
      "execution_count": 0,
      "outputs": []
    }
  ]
}